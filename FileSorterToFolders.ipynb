{
 "cells": [
  {
   "cell_type": "code",
   "execution_count": 25,
   "id": "3ba85e5f",
   "metadata": {},
   "outputs": [],
   "source": [
    "import os, shutil"
   ]
  },
  {
   "cell_type": "code",
   "execution_count": 26,
   "id": "ce11f3de",
   "metadata": {},
   "outputs": [],
   "source": [
    "path= r\"D:/Files/files/\""
   ]
  },
  {
   "cell_type": "code",
   "execution_count": 27,
   "id": "2edfa486",
   "metadata": {},
   "outputs": [],
   "source": [
    "fileName =os.listdir(path)"
   ]
  },
  {
   "cell_type": "code",
   "execution_count": 30,
   "id": "8cabaa99",
   "metadata": {},
   "outputs": [
    {
     "name": "stdout",
     "output_type": "stream",
     "text": [
      "D:/Files/files/text files\n"
     ]
    }
   ],
   "source": [
    "folderNames=['xlsx files','image files','text files']\n",
    "for loop in range(0,3):\n",
    "    if not os.path.exists(path + folderNames[loop]):\n",
    "        #print(path+folderNames[loop])\n",
    "        os.makedirs(path+folderNames[loop])    "
   ]
  },
  {
   "cell_type": "code",
   "execution_count": 31,
   "id": "28a4e027",
   "metadata": {},
   "outputs": [],
   "source": [
    "for file in fileName:\n",
    "    if \".xlsx\" in file and not os.path.exists(path + \"xlsx files/\" + file):\n",
    "        shutil.move(path + file, path + \"xlsx files/\" + file)\n",
    "    elif \".png\"  in file and not os.path.exists(path + \"image files/\" + file):\n",
    "        shutil.move(path + file, path + \"image files/\" + file)\n",
    "    elif \".txt\" in file and not os.path.exists(path + \"text files/\" + file):\n",
    "        shutil.move(path + file, path + \"text files/\" + file)\n",
    "        "
   ]
  }
 ],
 "metadata": {
  "kernelspec": {
   "display_name": "Python 3 (ipykernel)",
   "language": "python",
   "name": "python3"
  },
  "language_info": {
   "codemirror_mode": {
    "name": "ipython",
    "version": 3
   },
   "file_extension": ".py",
   "mimetype": "text/x-python",
   "name": "python",
   "nbconvert_exporter": "python",
   "pygments_lexer": "ipython3",
   "version": "3.11.3"
  }
 },
 "nbformat": 4,
 "nbformat_minor": 5
}
